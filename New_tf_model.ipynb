{
 "cells": [
  {
   "cell_type": "code",
   "execution_count": 32,
   "metadata": {
    "collapsed": true
   },
   "outputs": [],
   "source": [
    "import numpy as np\n",
    "import matplotlib.pyplot as plt\n",
    "from tqdm import tqdm_notebook\n",
    "import PIL.Image\n",
    "import seaborn as sns\n",
    "\n",
    "\n",
    "from cifar_batch import Cifar10Batch\n",
    "from models import TestModel\n",
    "from utils import read_in_dict, read_labs, get_pics_preds, softmax, get_sorted_ser\n",
    "\n",
    "from dataset import Pipeline, Dataset, DatasetIndex, B, V, C, F"
   ]
  },
  {
   "cell_type": "code",
   "execution_count": 2,
   "metadata": {
    "collapsed": true
   },
   "outputs": [],
   "source": [
    "%matplotlib inline"
   ]
  },
  {
   "cell_type": "code",
   "execution_count": 3,
   "metadata": {
    "collapsed": true
   },
   "outputs": [],
   "source": [
    "# size of cifar-10\n",
    "SIZE = 50000"
   ]
  },
  {
   "cell_type": "code",
   "execution_count": 4,
   "metadata": {
    "collapsed": true
   },
   "outputs": [],
   "source": [
    "# setting up the index and the dataset\n",
    "index = DatasetIndex(np.arange(SIZE))\n",
    "cifarset = Dataset(index=index, batch_class=Cifar10Batch)\n",
    "cifarset.cv_split(0.9)"
   ]
  },
  {
   "cell_type": "code",
   "execution_count": 5,
   "metadata": {
    "collapsed": true
   },
   "outputs": [],
   "source": [
    "# read cifar-10 dataset in dict\n",
    "datadict = read_in_dict(src='D:/Work/OpenData/', components=['images', 'labels', 'picnames'])"
   ]
  },
  {
   "cell_type": "code",
   "execution_count": 6,
   "metadata": {
    "collapsed": true
   },
   "outputs": [],
   "source": [
    "testbatch = cifarset.test.p.load(fmt='ndarray', src=datadict).next_batch(500)"
   ]
  },
  {
   "cell_type": "code",
   "execution_count": 7,
   "metadata": {},
   "outputs": [
    {
     "data": {
      "text/plain": [
       "['airplane',\n",
       " 'automobile',\n",
       " 'bird',\n",
       " 'cat',\n",
       " 'deer',\n",
       " 'dog',\n",
       " 'frog',\n",
       " 'horse',\n",
       " 'ship',\n",
       " 'truck']"
      ]
     },
     "execution_count": 7,
     "metadata": {},
     "output_type": "execute_result"
    }
   ],
   "source": [
    "# labels\n",
    "read_labs()"
   ]
  },
  {
   "cell_type": "markdown",
   "metadata": {},
   "source": [
    "### Training pipeline"
   ]
  },
  {
   "cell_type": "code",
   "execution_count": 8,
   "metadata": {
    "collapsed": true
   },
   "outputs": [],
   "source": [
    "from dataset.dataset.models.tf import TFModel"
   ]
  },
  {
   "cell_type": "code",
   "execution_count": 9,
   "metadata": {},
   "outputs": [],
   "source": [
    "# help(Pipeline.init_variables)"
   ]
  },
  {
   "cell_type": "code",
   "execution_count": 10,
   "metadata": {},
   "outputs": [
    {
     "name": "stdout",
     "output_type": "stream",
     "text": [
      "{'is_training': <tf.Tensor 'TestModel/globals/is_training:0' shape=<unknown> dtype=bool>, 'batch_norm': {'momentum': 0.1}, 'data_format': 'channels_last', 'layout': 'cap cnap ca', 'filters': [16, 32, 64], 'kernel_size': [5, 3, 3]}\n",
      "filled args in body:  {'batch_norm': {'momentum': 0.1}, 'layout': 'cap cnap ca', 'filters': [16, 32, 64], 'kernel_size': [5, 3, 3], 'is_training': <tf.Tensor 'TestModel/globals/is_training:0' shape=<unknown> dtype=bool>, 'data_format': 'channels_last'}\n"
     ]
    }
   ],
   "source": [
    "training = (cifarset.train.p\n",
    "            .load(fmt='ndarray', src=datadict)\n",
    "            .init_variables({'train_loss': dict(init=list), 'train_accuracy': dict(init=list)})\n",
    "            .init_variables({'test_loss': dict(init=list), 'test_accuracy': dict(init=list)})\n",
    "            .init_model('static', TestModel, 'My')\n",
    "            .train_model('My',\n",
    "                         feed_dict={'images': B('images'),\n",
    "                                    'labels': B('labels')},\n",
    "                         fetches=['loss', 'output_accuracy'],\n",
    "                         save_to=[V('train_loss'), V('train_accuracy')],\n",
    "                         mode='a')\n",
    "            .predict_model('My',\n",
    "                           feed_dict={'images': testbatch.images,\n",
    "                                      'labels': testbatch.labels},\n",
    "                           fetches=['loss', 'output_accuracy'],\n",
    "                           save_to=[V('test_loss'), V('test_accuracy')],\n",
    "                           mode='a')\n",
    "           )"
   ]
  },
  {
   "cell_type": "code",
   "execution_count": 11,
   "metadata": {
    "collapsed": true
   },
   "outputs": [],
   "source": [
    "import tensorflow as tf"
   ]
  },
  {
   "cell_type": "code",
   "execution_count": 12,
   "metadata": {
    "collapsed": true
   },
   "outputs": [],
   "source": [
    "genny = (cifarset >> training).gen_batch(batch_size=100, n_epochs=None)"
   ]
  },
  {
   "cell_type": "markdown",
   "metadata": {
    "collapsed": true
   },
   "source": [
    "### Training"
   ]
  },
  {
   "cell_type": "code",
   "execution_count": 23,
   "metadata": {
    "collapsed": true
   },
   "outputs": [],
   "source": [
    "N_ITER = 1000"
   ]
  },
  {
   "cell_type": "code",
   "execution_count": 24,
   "metadata": {},
   "outputs": [
    {
     "data": {
      "application/vnd.jupyter.widget-view+json": {
       "model_id": "f9ac02707edd4895a6ae79270bcab63c"
      }
     },
     "metadata": {},
     "output_type": "display_data"
    },
    {
     "name": "stdout",
     "output_type": "stream",
     "text": [
      "\n"
     ]
    }
   ],
   "source": [
    "for _ in tqdm_notebook(range(N_ITER)):\n",
    "    bch = next(genny)"
   ]
  },
  {
   "cell_type": "markdown",
   "metadata": {},
   "source": [
    "### Some beautiful plots"
   ]
  },
  {
   "cell_type": "code",
   "execution_count": 36,
   "metadata": {
    "collapsed": true
   },
   "outputs": [],
   "source": [
    "plt.style.use('ggplot')"
   ]
  },
  {
   "cell_type": "code",
   "execution_count": 37,
   "metadata": {},
   "outputs": [],
   "source": [
    "test_accs = bch.pipeline.get_variable('test_accuracy')\n",
    "test_loss = bch.pipeline.get_variable('test_loss')"
   ]
  },
  {
   "cell_type": "code",
   "execution_count": 48,
   "metadata": {
    "collapsed": true
   },
   "outputs": [],
   "source": [
    "csfont = {'fontname':'Comic Sans MS', 'fontsize': 15}\n",
    "hfont = {'fontname':'Helvetica'}"
   ]
  },
  {
   "cell_type": "code",
   "execution_count": 54,
   "metadata": {},
   "outputs": [
    {
     "data": {
      "text/plain": [
       "<matplotlib.legend.Legend at 0x251b6523b70>"
      ]
     },
     "execution_count": 54,
     "metadata": {},
     "output_type": "execute_result"
    },
    {
     "data": {
      "image/png": "[encoded data removed]",
      "text/plain": [
       "<matplotlib.figure.Figure at 0x251b1545ef0>"
      ]
     },
     "metadata": {},
     "output_type": "display_data"
    }
   ],
   "source": [
    "plt.plot(test_loss, color='r', label='loss')\n",
    "#plt.title('Loss', **csfont)\n",
    "plt.xlabel('iteration', **csfont)\n",
    "plt.legend(fontsize=12)"
   ]
  }
 ],
 "metadata": {
  "kernelspec": {
   "display_name": "Python 3",
   "language": "python",
   "name": "python3"
  },
  "language_info": {
   "codemirror_mode": {
    "name": "ipython",
    "version": 3
   },
   "file_extension": ".py",
   "mimetype": "text/x-python",
   "name": "python",
   "nbconvert_exporter": "python",
   "pygments_lexer": "ipython3",
   "version": "3.6.1"
  }
 },
 "nbformat": 4,
 "nbformat_minor": 2
}
