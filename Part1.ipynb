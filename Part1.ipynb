{
 "cells": [
  {
   "cell_type": "code",
   "execution_count": 1,
   "metadata": {
    "scrolled": true
   },
   "outputs": [
    {
     "name": "stdout",
     "output_type": "stream",
     "text": [
      "env: CUDA_VISIBLE_DEVICES=[]\n"
     ]
    }
   ],
   "source": [
    "import tensorflow as tf\n",
    "%env CUDA_VISIBLE_DEVICES=[]"
   ]
  },
  {
   "cell_type": "code",
   "execution_count": 2,
   "metadata": {},
   "outputs": [
    {
     "name": "stdout",
     "output_type": "stream",
     "text": [
      "Tue Jul 25 09:10:34 2017       \r\n",
      "+-----------------------------------------------------------------------------+\r\n",
      "| NVIDIA-SMI 375.26                 Driver Version: 375.26                    |\r\n",
      "|-------------------------------+----------------------+----------------------+\r\n",
      "| GPU  Name        Persistence-M| Bus-Id        Disp.A | Volatile Uncorr. ECC |\r\n",
      "| Fan  Temp  Perf  Pwr:Usage/Cap|         Memory-Usage | GPU-Util  Compute M. |\r\n",
      "|===============================+======================+======================|\r\n",
      "|   0  GeForce GTX 1080    Off  | 0000:02:00.0     Off |                  N/A |\r\n",
      "| 17%   48C    P8    15W / 200W |   8110MiB /  8113MiB |      0%      Default |\r\n",
      "+-------------------------------+----------------------+----------------------+\r\n",
      "|   1  GeForce GTX 1080    Off  | 0000:03:00.0     Off |                  N/A |\r\n",
      "| 18%   49C    P8    15W / 200W |   7924MiB /  8112MiB |      0%      Default |\r\n",
      "+-------------------------------+----------------------+----------------------+\r\n",
      "                                                                               \r\n",
      "+-----------------------------------------------------------------------------+\r\n",
      "| Processes:                                                       GPU Memory |\r\n",
      "|  GPU       PID  Type  Process name                               Usage      |\r\n",
      "|=============================================================================|\r\n",
      "+-----------------------------------------------------------------------------+\r\n"
     ]
    }
   ],
   "source": [
    "!nvidia-smi"
   ]
  },
  {
   "cell_type": "code",
   "execution_count": 3,
   "metadata": {
    "collapsed": true
   },
   "outputs": [],
   "source": [
    "import pandas as pd\n",
    "import numpy as np\n",
    "from tensorflow.examples.tutorials.mnist import input_data\n",
    "import matplotlib.pyplot as plt"
   ]
  },
  {
   "cell_type": "markdown",
   "metadata": {},
   "source": [
    "### Read the data"
   ]
  },
  {
   "cell_type": "code",
   "execution_count": 4,
   "metadata": {},
   "outputs": [
    {
     "name": "stdout",
     "output_type": "stream",
     "text": [
      "Extracting MNIST_data/train-images-idx3-ubyte.gz\n",
      "Extracting MNIST_data/train-labels-idx1-ubyte.gz\n",
      "Extracting MNIST_data/t10k-images-idx3-ubyte.gz\n",
      "Extracting MNIST_data/t10k-labels-idx1-ubyte.gz\n"
     ]
    }
   ],
   "source": [
    "mnist = input_data.read_data_sets(\"MNIST_data/\", one_hot=True)"
   ]
  },
  {
   "cell_type": "code",
   "execution_count": 5,
   "metadata": {},
   "outputs": [
    {
     "name": "stdout",
     "output_type": "stream",
     "text": [
      "<class 'numpy.ndarray'>\n",
      "(55000, 784)\n",
      "(55000, 10)\n"
     ]
    }
   ],
   "source": [
    "print(type(mnist.train.images))\n",
    "print(mnist.train.images.shape)\n",
    "print(mnist.train.labels.shape)"
   ]
  },
  {
   "cell_type": "markdown",
   "metadata": {},
   "source": [
    "### Build the graph"
   ]
  },
  {
   "cell_type": "markdown",
   "metadata": {},
   "source": [
    "* 1 Going forward"
   ]
  },
  {
   "cell_type": "code",
   "execution_count": 6,
   "metadata": {
    "collapsed": true
   },
   "outputs": [],
   "source": [
    "# data placeholder\n",
    "x = tf.placeholder(tf.float32, [None, 784])\n",
    "\n",
    "# weights and bias\n",
    "W = tf.Variable(tf.zeros([784, 10]))\n",
    "b = tf.Variable(tf.zeros([10]))\n",
    "\n",
    "# logits\n",
    "y = tf.matmul(x, W) + b\n",
    "\n",
    "# placeholder for correct labels\n",
    "y_ = tf.placeholder(tf.float32, [None, 10])"
   ]
  },
  {
   "cell_type": "markdown",
   "metadata": {},
   "source": [
    "* 2 Labels' predictions, accuracy"
   ]
  },
  {
   "cell_type": "code",
   "execution_count": 7,
   "metadata": {
    "collapsed": true
   },
   "outputs": [],
   "source": [
    "labels_hat = tf.cast(tf.argmax(y, axis=1), tf.float32)\n",
    "labels = tf.cast(tf.argmax(y_, axis=1), tf.float32)"
   ]
  },
  {
   "cell_type": "code",
   "execution_count": 8,
   "metadata": {
    "collapsed": true
   },
   "outputs": [],
   "source": [
    "accuracy = tf.reduce_mean(tf.cast(tf.equal(labels_hat, labels), tf.float32))"
   ]
  },
  {
   "cell_type": "markdown",
   "metadata": {},
   "source": [
    "* 3 Nn-training "
   ]
  },
  {
   "cell_type": "code",
   "execution_count": 9,
   "metadata": {
    "collapsed": true
   },
   "outputs": [],
   "source": [
    "loss = tf.nn.softmax_cross_entropy_with_logits(logits=y, labels=y_)\n",
    "train_step = tf.train.AdamOptimizer().minimize(loss)"
   ]
  },
  {
   "cell_type": "code",
   "execution_count": 10,
   "metadata": {
    "collapsed": true
   },
   "outputs": [],
   "source": [
    "sess = tf.Session()\n",
    "sess.run(tf.global_variables_initializer())"
   ]
  },
  {
   "cell_type": "markdown",
   "metadata": {},
   "source": [
    "* 4 Executing computations on the graph"
   ]
  },
  {
   "cell_type": "code",
   "execution_count": 11,
   "metadata": {
    "collapsed": true
   },
   "outputs": [],
   "source": [
    "test_accs = []"
   ]
  },
  {
   "cell_type": "code",
   "execution_count": 12,
   "metadata": {
    "collapsed": true
   },
   "outputs": [],
   "source": [
    "for i in range(300):\n",
    "    batch_xs, batch_ys = mnist.train.next_batch(100)\n",
    "    sess.run(train_step, feed_dict={x: batch_xs, y_: batch_ys})\n",
    "    test_xs, test_ys = mnist.test.next_batch(200)\n",
    "    test_accs.append(sess.run(accuracy, feed_dict={x: test_xs, y_: test_ys}))"
   ]
  },
  {
   "cell_type": "code",
   "execution_count": 13,
   "metadata": {},
   "outputs": [
    {
     "data": {
      "image/png": "[encoded data removed]",
      "text/plain": [
       "<matplotlib.figure.Figure at 0x7effdaa84518>"
      ]
     },
     "metadata": {},
     "output_type": "display_data"
    }
   ],
   "source": [
    "plt.plot(test_accs)\n",
    "plt.xlabel('iter')\n",
    "plt.ylabel('accuracy')\n",
    "plt.show()"
   ]
  },
  {
   "cell_type": "markdown",
   "metadata": {},
   "source": [
    "### Is it the perfect way to build a tf-solution? No!"
   ]
  },
  {
   "cell_type": "markdown",
   "metadata": {},
   "source": [
    "* We implicitly base the whole process on the way Jup Notebook stores local (for specific cells) variables\n",
    "* E.g., it is only possible for us to train the model in item 4\n",
    "* Because Jup Notebook stores in memory refs on placeholder defined in item 1\n",
    "* Important idea: \n",
    "* When we create an op (as in item 1) we actually create $\\textbf{two}$ objects:\n",
    "\n",
    "1) python-ref on an op\n",
    "\n",
    "2) tf-op stored in graph\n",
    "\n",
    "* While the first are temporary, the second live forever!"
   ]
  },
  {
   "cell_type": "markdown",
   "metadata": {},
   "source": [
    "### Building the tf-model in a better way: structuring the whole thing"
   ]
  },
  {
   "cell_type": "markdown",
   "metadata": {},
   "source": [
    "* OK. Where are the tf-ops stored?"
   ]
  },
  {
   "cell_type": "code",
   "execution_count": 14,
   "metadata": {
    "collapsed": true
   },
   "outputs": [],
   "source": [
    "# fetch the link on default graph\n",
    "grph = tf.get_default_graph()"
   ]
  },
  {
   "cell_type": "code",
   "execution_count": 15,
   "metadata": {
    "collapsed": true
   },
   "outputs": [],
   "source": [
    "# get all ops created in the graph\n",
    "ops = grph.get_operations()"
   ]
  },
  {
   "cell_type": "code",
   "execution_count": 16,
   "metadata": {
    "scrolled": true
   },
   "outputs": [
    {
     "data": {
      "text/plain": [
       "[<tf.Operation 'Placeholder' type=Placeholder>,\n",
       " <tf.Operation 'zeros' type=Const>,\n",
       " <tf.Operation 'Variable' type=VariableV2>,\n",
       " <tf.Operation 'Variable/Assign' type=Assign>,\n",
       " <tf.Operation 'Variable/read' type=Identity>,\n",
       " <tf.Operation 'zeros_1' type=Const>,\n",
       " <tf.Operation 'Variable_1' type=VariableV2>,\n",
       " <tf.Operation 'Variable_1/Assign' type=Assign>,\n",
       " <tf.Operation 'Variable_1/read' type=Identity>,\n",
       " <tf.Operation 'MatMul' type=MatMul>,\n",
       " <tf.Operation 'add' type=Add>,\n",
       " <tf.Operation 'Placeholder_1' type=Placeholder>,\n",
       " <tf.Operation 'ArgMax/dimension' type=Const>,\n",
       " <tf.Operation 'ArgMax' type=ArgMax>,\n",
       " <tf.Operation 'Cast' type=Cast>,\n",
       " <tf.Operation 'ArgMax_1/dimension' type=Const>,\n",
       " <tf.Operation 'ArgMax_1' type=ArgMax>,\n",
       " <tf.Operation 'Cast_1' type=Cast>,\n",
       " <tf.Operation 'Equal' type=Equal>,\n",
       " <tf.Operation 'Cast_2' type=Cast>,\n",
       " <tf.Operation 'Const' type=Const>,\n",
       " <tf.Operation 'Mean' type=Mean>,\n",
       " <tf.Operation 'Rank' type=Const>,\n",
       " <tf.Operation 'Shape' type=Shape>,\n",
       " <tf.Operation 'Rank_1' type=Const>,\n",
       " <tf.Operation 'Shape_1' type=Shape>,\n",
       " <tf.Operation 'Sub/y' type=Const>,\n",
       " <tf.Operation 'Sub' type=Sub>,\n",
       " <tf.Operation 'Slice/begin' type=Pack>,\n",
       " <tf.Operation 'Slice/size' type=Const>,\n",
       " <tf.Operation 'Slice' type=Slice>,\n",
       " <tf.Operation 'concat/values_0' type=Const>,\n",
       " <tf.Operation 'concat/axis' type=Const>,\n",
       " <tf.Operation 'concat' type=ConcatV2>,\n",
       " <tf.Operation 'Reshape' type=Reshape>,\n",
       " <tf.Operation 'Rank_2' type=Const>,\n",
       " <tf.Operation 'Shape_2' type=Shape>,\n",
       " <tf.Operation 'Sub_1/y' type=Const>,\n",
       " <tf.Operation 'Sub_1' type=Sub>,\n",
       " <tf.Operation 'Slice_1/begin' type=Pack>,\n",
       " <tf.Operation 'Slice_1/size' type=Const>,\n",
       " <tf.Operation 'Slice_1' type=Slice>,\n",
       " <tf.Operation 'concat_1/values_0' type=Const>,\n",
       " <tf.Operation 'concat_1/axis' type=Const>,\n",
       " <tf.Operation 'concat_1' type=ConcatV2>,\n",
       " <tf.Operation 'Reshape_1' type=Reshape>,\n",
       " <tf.Operation 'SoftmaxCrossEntropyWithLogits' type=SoftmaxCrossEntropyWithLogits>,\n",
       " <tf.Operation 'Sub_2/y' type=Const>,\n",
       " <tf.Operation 'Sub_2' type=Sub>,\n",
       " <tf.Operation 'Slice_2/begin' type=Const>,\n",
       " <tf.Operation 'Slice_2/size' type=Pack>,\n",
       " <tf.Operation 'Slice_2' type=Slice>,\n",
       " <tf.Operation 'Reshape_2' type=Reshape>,\n",
       " <tf.Operation 'gradients/Shape' type=Shape>,\n",
       " <tf.Operation 'gradients/Const' type=Const>,\n",
       " <tf.Operation 'gradients/Fill' type=Fill>,\n",
       " <tf.Operation 'gradients/Reshape_2_grad/Shape' type=Shape>,\n",
       " <tf.Operation 'gradients/Reshape_2_grad/Reshape' type=Reshape>,\n",
       " <tf.Operation 'gradients/zeros_like' type=ZerosLike>,\n",
       " <tf.Operation 'gradients/SoftmaxCrossEntropyWithLogits_grad/ExpandDims/dim' type=Const>,\n",
       " <tf.Operation 'gradients/SoftmaxCrossEntropyWithLogits_grad/ExpandDims' type=ExpandDims>,\n",
       " <tf.Operation 'gradients/SoftmaxCrossEntropyWithLogits_grad/mul' type=Mul>,\n",
       " <tf.Operation 'gradients/Reshape_grad/Shape' type=Shape>,\n",
       " <tf.Operation 'gradients/Reshape_grad/Reshape' type=Reshape>,\n",
       " <tf.Operation 'gradients/add_grad/Shape' type=Shape>,\n",
       " <tf.Operation 'gradients/add_grad/Shape_1' type=Const>,\n",
       " <tf.Operation 'gradients/add_grad/BroadcastGradientArgs' type=BroadcastGradientArgs>,\n",
       " <tf.Operation 'gradients/add_grad/Sum' type=Sum>,\n",
       " <tf.Operation 'gradients/add_grad/Reshape' type=Reshape>,\n",
       " <tf.Operation 'gradients/add_grad/Sum_1' type=Sum>,\n",
       " <tf.Operation 'gradients/add_grad/Reshape_1' type=Reshape>,\n",
       " <tf.Operation 'gradients/add_grad/tuple/group_deps' type=NoOp>,\n",
       " <tf.Operation 'gradients/add_grad/tuple/control_dependency' type=Identity>,\n",
       " <tf.Operation 'gradients/add_grad/tuple/control_dependency_1' type=Identity>,\n",
       " <tf.Operation 'gradients/MatMul_grad/MatMul' type=MatMul>,\n",
       " <tf.Operation 'gradients/MatMul_grad/MatMul_1' type=MatMul>,\n",
       " <tf.Operation 'gradients/MatMul_grad/tuple/group_deps' type=NoOp>,\n",
       " <tf.Operation 'gradients/MatMul_grad/tuple/control_dependency' type=Identity>,\n",
       " <tf.Operation 'gradients/MatMul_grad/tuple/control_dependency_1' type=Identity>,\n",
       " <tf.Operation 'beta1_power/initial_value' type=Const>,\n",
       " <tf.Operation 'beta1_power' type=VariableV2>,\n",
       " <tf.Operation 'beta1_power/Assign' type=Assign>,\n",
       " <tf.Operation 'beta1_power/read' type=Identity>,\n",
       " <tf.Operation 'beta2_power/initial_value' type=Const>,\n",
       " <tf.Operation 'beta2_power' type=VariableV2>,\n",
       " <tf.Operation 'beta2_power/Assign' type=Assign>,\n",
       " <tf.Operation 'beta2_power/read' type=Identity>,\n",
       " <tf.Operation 'Variable/Adam/Initializer/zeros' type=Const>,\n",
       " <tf.Operation 'Variable/Adam' type=VariableV2>,\n",
       " <tf.Operation 'Variable/Adam/Assign' type=Assign>,\n",
       " <tf.Operation 'Variable/Adam/read' type=Identity>,\n",
       " <tf.Operation 'Variable/Adam_1/Initializer/zeros' type=Const>,\n",
       " <tf.Operation 'Variable/Adam_1' type=VariableV2>,\n",
       " <tf.Operation 'Variable/Adam_1/Assign' type=Assign>,\n",
       " <tf.Operation 'Variable/Adam_1/read' type=Identity>,\n",
       " <tf.Operation 'Variable_1/Adam/Initializer/zeros' type=Const>,\n",
       " <tf.Operation 'Variable_1/Adam' type=VariableV2>,\n",
       " <tf.Operation 'Variable_1/Adam/Assign' type=Assign>,\n",
       " <tf.Operation 'Variable_1/Adam/read' type=Identity>,\n",
       " <tf.Operation 'Variable_1/Adam_1/Initializer/zeros' type=Const>,\n",
       " <tf.Operation 'Variable_1/Adam_1' type=VariableV2>,\n",
       " <tf.Operation 'Variable_1/Adam_1/Assign' type=Assign>,\n",
       " <tf.Operation 'Variable_1/Adam_1/read' type=Identity>,\n",
       " <tf.Operation 'Adam/learning_rate' type=Const>,\n",
       " <tf.Operation 'Adam/beta1' type=Const>,\n",
       " <tf.Operation 'Adam/beta2' type=Const>,\n",
       " <tf.Operation 'Adam/epsilon' type=Const>,\n",
       " <tf.Operation 'Adam/update_Variable/ApplyAdam' type=ApplyAdam>,\n",
       " <tf.Operation 'Adam/update_Variable_1/ApplyAdam' type=ApplyAdam>,\n",
       " <tf.Operation 'Adam/mul' type=Mul>,\n",
       " <tf.Operation 'Adam/Assign' type=Assign>,\n",
       " <tf.Operation 'Adam/mul_1' type=Mul>,\n",
       " <tf.Operation 'Adam/Assign_1' type=Assign>,\n",
       " <tf.Operation 'Adam' type=NoOp>,\n",
       " <tf.Operation 'init' type=NoOp>]"
      ]
     },
     "execution_count": 16,
     "metadata": {},
     "output_type": "execute_result"
    }
   ],
   "source": [
    "# (what a mess!)\n",
    "ops"
   ]
  },
  {
   "cell_type": "markdown",
   "metadata": {},
   "source": [
    "* That is, when we create ops\n",
    "* ... we place them in the default graph.\n",
    "* Obviously, not the best way to do things\n",
    "* If we want to build, say, several models in one nb\n",
    "* graph contexts help!"
   ]
  },
  {
   "cell_type": "code",
   "execution_count": 17,
   "metadata": {
    "collapsed": true
   },
   "outputs": [],
   "source": [
    "grapphy = tf.Graph()"
   ]
  },
  {
   "cell_type": "code",
   "execution_count": 18,
   "metadata": {
    "collapsed": true
   },
   "outputs": [],
   "source": [
    "with grapphy.as_default():\n",
    "    xx = tf.placeholder(tf.float32, [None, 784])\n",
    "    summy = tf.reduce_mean(xx, axis=1)\n",
    "    "
   ]
  },
  {
   "cell_type": "code",
   "execution_count": 19,
   "metadata": {},
   "outputs": [
    {
     "name": "stdout",
     "output_type": "stream",
     "text": [
      "[ 0.17054823  0.10235595  0.08560925  0.15968388  0.12482995  0.18528412\n",
      "  0.17763607  0.12184375  0.229967    0.14185175]\n"
     ]
    }
   ],
   "source": [
    "with grapphy.as_default():\n",
    "    sess = tf.Session()\n",
    "    batch_xs, batch_ys = mnist.train.next_batch(10)\n",
    "    print(sess.run(summy, feed_dict={xx: batch_xs}))"
   ]
  },
  {
   "cell_type": "code",
   "execution_count": 20,
   "metadata": {},
   "outputs": [
    {
     "data": {
      "text/plain": [
       "[<tf.Operation 'Placeholder' type=Placeholder>,\n",
       " <tf.Operation 'Mean/reduction_indices' type=Const>,\n",
       " <tf.Operation 'Mean' type=Mean>]"
      ]
     },
     "execution_count": 20,
     "metadata": {},
     "output_type": "execute_result"
    }
   ],
   "source": [
    "grapphy.get_operations()"
   ]
  },
  {
   "cell_type": "markdown",
   "metadata": {},
   "source": [
    "* Still, hard to trace the variables\n",
    "* They're very miserable, let's give them a name!"
   ]
  },
  {
   "cell_type": "code",
   "execution_count": 32,
   "metadata": {
    "collapsed": true
   },
   "outputs": [],
   "source": [
    "grapphy = tf.Graph()\n",
    "with grapphy.as_default():\n",
    "    x = tf.placeholder(tf.float32, [None, 784], name='input_pics')\n",
    "    W = tf.Variable(tf.random_normal([784, 10]), name='weights')\n",
    "    b = tf.Variable(tf.zeros([10]), name='bias')\n",
    "    logits = tf.matmul(x, W) + b\n",
    "    logits = tf.identity(logits, 'logits')"
   ]
  },
  {
   "cell_type": "code",
   "execution_count": 33,
   "metadata": {},
   "outputs": [
    {
     "data": {
      "text/plain": [
       "[<tf.Operation 'input_pics' type=Placeholder>,\n",
       " <tf.Operation 'random_normal/shape' type=Const>,\n",
       " <tf.Operation 'random_normal/mean' type=Const>,\n",
       " <tf.Operation 'random_normal/stddev' type=Const>,\n",
       " <tf.Operation 'random_normal/RandomStandardNormal' type=RandomStandardNormal>,\n",
       " <tf.Operation 'random_normal/mul' type=Mul>,\n",
       " <tf.Operation 'random_normal' type=Add>,\n",
       " <tf.Operation 'weights' type=VariableV2>,\n",
       " <tf.Operation 'weights/Assign' type=Assign>,\n",
       " <tf.Operation 'weights/read' type=Identity>,\n",
       " <tf.Operation 'zeros' type=Const>,\n",
       " <tf.Operation 'bias' type=VariableV2>,\n",
       " <tf.Operation 'bias/Assign' type=Assign>,\n",
       " <tf.Operation 'bias/read' type=Identity>,\n",
       " <tf.Operation 'MatMul' type=MatMul>,\n",
       " <tf.Operation 'add' type=Add>,\n",
       " <tf.Operation 'logits' type=Identity>]"
      ]
     },
     "execution_count": 33,
     "metadata": {},
     "output_type": "execute_result"
    }
   ],
   "source": [
    "grapphy.get_operations()"
   ]
  },
  {
   "cell_type": "code",
   "execution_count": 35,
   "metadata": {},
   "outputs": [
    {
     "name": "stdout",
     "output_type": "stream",
     "text": [
      "[[ -2.82080245  -4.68091917 -17.47230339  -1.72977304  -3.8131094\n",
      "    7.76443148   1.36736715   8.98284054 -12.5115633   -7.68815804]]\n"
     ]
    }
   ],
   "source": [
    "with grapphy.as_default():\n",
    "    sess = tf.Session()\n",
    "    sess.run(tf.global_variables_initializer())\n",
    "    batch_xs, _ = mnist.train.next_batch(1)\n",
    "    llogits = grapphy.get_tensor_by_name('logits:0')\n",
    "    xx = grapphy.get_tensor_by_name('input_pics:0')\n",
    "    print(sess.run(llogits, feed_dict={xx: batch_xs}))\n",
    "    \n"
   ]
  },
  {
   "cell_type": "markdown",
   "metadata": {},
   "source": [
    "* what if we need to create several layers (e.g. fully-connected)? \n",
    "* we don't want to name vars 'weights_0', 'weights_1'...\n",
    "* variable scopes can be of help!"
   ]
  },
  {
   "cell_type": "code",
   "execution_count": 24,
   "metadata": {
    "collapsed": true
   },
   "outputs": [],
   "source": [
    "def fc_layer(scope, input_layer, n_outs):\n",
    "    \"\"\" Build fully-connected layer with n_outs outputs\n",
    "    \n",
    "    Args:\n",
    "        input_layer: input layer\n",
    "        n_outs: dim of output tensor\n",
    "    Return:\n",
    "        output layer (tf-tensor)\n",
    "    \"\"\"\n",
    "    with tf.variable_scope(scope):\n",
    "        W = tf.Variable(tf.random_normal([784, 10]), name='weights')\n",
    "        b = tf.Variable(tf.zeros([10]), name='bias')\n",
    "        output = tf.matmul(x, W) + b\n",
    "        return output\n",
    "    "
   ]
  },
  {
   "cell_type": "markdown",
   "metadata": {},
   "source": [
    "### Structuring the whole thing"
   ]
  },
  {
   "cell_type": "code",
   "execution_count": 44,
   "metadata": {
    "collapsed": true
   },
   "outputs": [],
   "source": [
    "NUM_ITER = 1000\n",
    "BATCH_SIZE = 500\n",
    "grapphy = tf.Graph()\n",
    "test_accs = []\n",
    "with grapphy.as_default():\n",
    "    # ph for feature-vector\n",
    "    x = tf.placeholder(tf.float32, [None, 784], name='pics')\n",
    "    # placeholder for correct labels\n",
    "    y_ = tf.placeholder(tf.float32, [None, 10], name='labels')\n",
    "    \n",
    "    # build the net\n",
    "    net = fc_layer('fc1', x, 300)\n",
    "    net = fc_layer('fc2', net, 10)\n",
    "    logits = tf.identity(net, 'logits')\n",
    "    \n",
    "    # loss\n",
    "    loss = tf.nn.softmax_cross_entropy_with_logits(logits=logits, labels=y_, name='loss')\n",
    "    train_step = tf.train.AdamOptimizer().minimize(loss)\n",
    "    \n",
    "    # stats\n",
    "    labels_hat = tf.cast(tf.argmax(logits, axis=1), tf.float32, name='labels_hat')\n",
    "    labels = tf.cast(tf.argmax(y_, axis=1), tf.float32, name='labels')\n",
    "    accuracy = tf.reduce_mean(tf.cast(tf.equal(labels_hat, labels), tf.float32), name='acc')\n"
   ]
  },
  {
   "cell_type": "code",
   "execution_count": 37,
   "metadata": {},
   "outputs": [
    {
     "data": {
      "text/plain": [
       "[<tf.Operation 'pics' type=Placeholder>,\n",
       " <tf.Operation 'labels' type=Placeholder>,\n",
       " <tf.Operation 'fc1/random_normal/shape' type=Const>,\n",
       " <tf.Operation 'fc1/random_normal/mean' type=Const>,\n",
       " <tf.Operation 'fc1/random_normal/stddev' type=Const>,\n",
       " <tf.Operation 'fc1/random_normal/RandomStandardNormal' type=RandomStandardNormal>,\n",
       " <tf.Operation 'fc1/random_normal/mul' type=Mul>,\n",
       " <tf.Operation 'fc1/random_normal' type=Add>,\n",
       " <tf.Operation 'fc1/weights' type=VariableV2>,\n",
       " <tf.Operation 'fc1/weights/Assign' type=Assign>,\n",
       " <tf.Operation 'fc1/weights/read' type=Identity>,\n",
       " <tf.Operation 'fc1/zeros' type=Const>,\n",
       " <tf.Operation 'fc1/bias' type=VariableV2>,\n",
       " <tf.Operation 'fc1/bias/Assign' type=Assign>,\n",
       " <tf.Operation 'fc1/bias/read' type=Identity>,\n",
       " <tf.Operation 'fc1/MatMul' type=MatMul>,\n",
       " <tf.Operation 'fc1/add' type=Add>,\n",
       " <tf.Operation 'fc2/random_normal/shape' type=Const>,\n",
       " <tf.Operation 'fc2/random_normal/mean' type=Const>,\n",
       " <tf.Operation 'fc2/random_normal/stddev' type=Const>,\n",
       " <tf.Operation 'fc2/random_normal/RandomStandardNormal' type=RandomStandardNormal>,\n",
       " <tf.Operation 'fc2/random_normal/mul' type=Mul>,\n",
       " <tf.Operation 'fc2/random_normal' type=Add>,\n",
       " <tf.Operation 'fc2/weights' type=VariableV2>,\n",
       " <tf.Operation 'fc2/weights/Assign' type=Assign>,\n",
       " <tf.Operation 'fc2/weights/read' type=Identity>,\n",
       " <tf.Operation 'fc2/zeros' type=Const>,\n",
       " <tf.Operation 'fc2/bias' type=VariableV2>,\n",
       " <tf.Operation 'fc2/bias/Assign' type=Assign>,\n",
       " <tf.Operation 'fc2/bias/read' type=Identity>,\n",
       " <tf.Operation 'fc2/MatMul' type=MatMul>,\n",
       " <tf.Operation 'fc2/add' type=Add>,\n",
       " <tf.Operation 'logits' type=Identity>,\n",
       " <tf.Operation 'Rank' type=Const>,\n",
       " <tf.Operation 'Shape' type=Shape>,\n",
       " <tf.Operation 'Rank_1' type=Const>,\n",
       " <tf.Operation 'Shape_1' type=Shape>,\n",
       " <tf.Operation 'Sub/y' type=Const>,\n",
       " <tf.Operation 'Sub' type=Sub>,\n",
       " <tf.Operation 'Slice/begin' type=Pack>,\n",
       " <tf.Operation 'Slice/size' type=Const>,\n",
       " <tf.Operation 'Slice' type=Slice>,\n",
       " <tf.Operation 'concat/values_0' type=Const>,\n",
       " <tf.Operation 'concat/axis' type=Const>,\n",
       " <tf.Operation 'concat' type=ConcatV2>,\n",
       " <tf.Operation 'Reshape' type=Reshape>,\n",
       " <tf.Operation 'Rank_2' type=Const>,\n",
       " <tf.Operation 'Shape_2' type=Shape>,\n",
       " <tf.Operation 'Sub_1/y' type=Const>,\n",
       " <tf.Operation 'Sub_1' type=Sub>,\n",
       " <tf.Operation 'Slice_1/begin' type=Pack>,\n",
       " <tf.Operation 'Slice_1/size' type=Const>,\n",
       " <tf.Operation 'Slice_1' type=Slice>,\n",
       " <tf.Operation 'concat_1/values_0' type=Const>,\n",
       " <tf.Operation 'concat_1/axis' type=Const>,\n",
       " <tf.Operation 'concat_1' type=ConcatV2>,\n",
       " <tf.Operation 'Reshape_1' type=Reshape>,\n",
       " <tf.Operation 'loss' type=SoftmaxCrossEntropyWithLogits>,\n",
       " <tf.Operation 'Sub_2/y' type=Const>,\n",
       " <tf.Operation 'Sub_2' type=Sub>,\n",
       " <tf.Operation 'Slice_2/begin' type=Const>,\n",
       " <tf.Operation 'Slice_2/size' type=Pack>,\n",
       " <tf.Operation 'Slice_2' type=Slice>,\n",
       " <tf.Operation 'Reshape_2' type=Reshape>,\n",
       " <tf.Operation 'gradients/Shape' type=Shape>,\n",
       " <tf.Operation 'gradients/Const' type=Const>,\n",
       " <tf.Operation 'gradients/Fill' type=Fill>,\n",
       " <tf.Operation 'gradients/Reshape_2_grad/Shape' type=Shape>,\n",
       " <tf.Operation 'gradients/Reshape_2_grad/Reshape' type=Reshape>,\n",
       " <tf.Operation 'gradients/zeros_like' type=ZerosLike>,\n",
       " <tf.Operation 'gradients/loss_grad/ExpandDims/dim' type=Const>,\n",
       " <tf.Operation 'gradients/loss_grad/ExpandDims' type=ExpandDims>,\n",
       " <tf.Operation 'gradients/loss_grad/mul' type=Mul>,\n",
       " <tf.Operation 'gradients/Reshape_grad/Shape' type=Shape>,\n",
       " <tf.Operation 'gradients/Reshape_grad/Reshape' type=Reshape>,\n",
       " <tf.Operation 'gradients/fc2/add_grad/Shape' type=Shape>,\n",
       " <tf.Operation 'gradients/fc2/add_grad/Shape_1' type=Const>,\n",
       " <tf.Operation 'gradients/fc2/add_grad/BroadcastGradientArgs' type=BroadcastGradientArgs>,\n",
       " <tf.Operation 'gradients/fc2/add_grad/Sum' type=Sum>,\n",
       " <tf.Operation 'gradients/fc2/add_grad/Reshape' type=Reshape>,\n",
       " <tf.Operation 'gradients/fc2/add_grad/Sum_1' type=Sum>,\n",
       " <tf.Operation 'gradients/fc2/add_grad/Reshape_1' type=Reshape>,\n",
       " <tf.Operation 'gradients/fc2/add_grad/tuple/group_deps' type=NoOp>,\n",
       " <tf.Operation 'gradients/fc2/add_grad/tuple/control_dependency' type=Identity>,\n",
       " <tf.Operation 'gradients/fc2/add_grad/tuple/control_dependency_1' type=Identity>,\n",
       " <tf.Operation 'gradients/fc2/MatMul_grad/MatMul' type=MatMul>,\n",
       " <tf.Operation 'gradients/fc2/MatMul_grad/MatMul_1' type=MatMul>,\n",
       " <tf.Operation 'gradients/fc2/MatMul_grad/tuple/group_deps' type=NoOp>,\n",
       " <tf.Operation 'gradients/fc2/MatMul_grad/tuple/control_dependency' type=Identity>,\n",
       " <tf.Operation 'gradients/fc2/MatMul_grad/tuple/control_dependency_1' type=Identity>,\n",
       " <tf.Operation 'beta1_power/initial_value' type=Const>,\n",
       " <tf.Operation 'beta1_power' type=VariableV2>,\n",
       " <tf.Operation 'beta1_power/Assign' type=Assign>,\n",
       " <tf.Operation 'beta1_power/read' type=Identity>,\n",
       " <tf.Operation 'beta2_power/initial_value' type=Const>,\n",
       " <tf.Operation 'beta2_power' type=VariableV2>,\n",
       " <tf.Operation 'beta2_power/Assign' type=Assign>,\n",
       " <tf.Operation 'beta2_power/read' type=Identity>,\n",
       " <tf.Operation 'fc2/weights/Adam/Initializer/zeros' type=Const>,\n",
       " <tf.Operation 'fc2/weights/Adam' type=VariableV2>,\n",
       " <tf.Operation 'fc2/weights/Adam/Assign' type=Assign>,\n",
       " <tf.Operation 'fc2/weights/Adam/read' type=Identity>,\n",
       " <tf.Operation 'fc2/weights/Adam_1/Initializer/zeros' type=Const>,\n",
       " <tf.Operation 'fc2/weights/Adam_1' type=VariableV2>,\n",
       " <tf.Operation 'fc2/weights/Adam_1/Assign' type=Assign>,\n",
       " <tf.Operation 'fc2/weights/Adam_1/read' type=Identity>,\n",
       " <tf.Operation 'fc2/bias/Adam/Initializer/zeros' type=Const>,\n",
       " <tf.Operation 'fc2/bias/Adam' type=VariableV2>,\n",
       " <tf.Operation 'fc2/bias/Adam/Assign' type=Assign>,\n",
       " <tf.Operation 'fc2/bias/Adam/read' type=Identity>,\n",
       " <tf.Operation 'fc2/bias/Adam_1/Initializer/zeros' type=Const>,\n",
       " <tf.Operation 'fc2/bias/Adam_1' type=VariableV2>,\n",
       " <tf.Operation 'fc2/bias/Adam_1/Assign' type=Assign>,\n",
       " <tf.Operation 'fc2/bias/Adam_1/read' type=Identity>,\n",
       " <tf.Operation 'Adam/learning_rate' type=Const>,\n",
       " <tf.Operation 'Adam/beta1' type=Const>,\n",
       " <tf.Operation 'Adam/beta2' type=Const>,\n",
       " <tf.Operation 'Adam/epsilon' type=Const>,\n",
       " <tf.Operation 'Adam/update_fc2/weights/ApplyAdam' type=ApplyAdam>,\n",
       " <tf.Operation 'Adam/update_fc2/bias/ApplyAdam' type=ApplyAdam>,\n",
       " <tf.Operation 'Adam/mul' type=Mul>,\n",
       " <tf.Operation 'Adam/Assign' type=Assign>,\n",
       " <tf.Operation 'Adam/mul_1' type=Mul>,\n",
       " <tf.Operation 'Adam/Assign_1' type=Assign>,\n",
       " <tf.Operation 'Adam' type=NoOp>,\n",
       " <tf.Operation 'ArgMax/dimension' type=Const>,\n",
       " <tf.Operation 'ArgMax' type=ArgMax>,\n",
       " <tf.Operation 'labels_hat' type=Cast>,\n",
       " <tf.Operation 'ArgMax_1/dimension' type=Const>,\n",
       " <tf.Operation 'ArgMax_1' type=ArgMax>,\n",
       " <tf.Operation 'labels_1' type=Cast>,\n",
       " <tf.Operation 'Equal' type=Equal>,\n",
       " <tf.Operation 'Cast_1' type=Cast>,\n",
       " <tf.Operation 'Const' type=Const>,\n",
       " <tf.Operation 'acc' type=Mean>]"
      ]
     },
     "execution_count": 37,
     "metadata": {},
     "output_type": "execute_result"
    }
   ],
   "source": [
    "grapphy.get_operations()"
   ]
  },
  {
   "cell_type": "code",
   "execution_count": 26,
   "metadata": {
    "collapsed": true
   },
   "outputs": [],
   "source": [
    "with grapphy.as_default():\n",
    "    # train the net\n",
    "    sess = tf.Session()\n",
    "    sess.run(tf.global_variables_initializer())\n",
    "    \n",
    "    for i in range(NUM_ITER):\n",
    "        batch_xs, batch_ys = mnist.train.next_batch(BATCH_SIZE)\n",
    "        sess.run(train_step, feed_dict={x: batch_xs, y_: batch_ys})\n",
    "        test_xs, test_ys = mnist.test.next_batch(BATCH_SIZE)\n",
    "        test_accs.append(sess.run(accuracy, feed_dict={x: test_xs, y_: test_ys}))"
   ]
  },
  {
   "cell_type": "markdown",
   "metadata": {},
   "source": [
    "### Save the model"
   ]
  },
  {
   "cell_type": "code",
   "execution_count": 27,
   "metadata": {
    "collapsed": true
   },
   "outputs": [],
   "source": [
    "with grapphy.as_default():\n",
    "    saver = tf.train.Saver()\n",
    "    saver.save(sess, 'trained/model')"
   ]
  },
  {
   "cell_type": "code",
   "execution_count": 40,
   "metadata": {},
   "outputs": [
    {
     "data": {
      "text/plain": [
       "['model.index', 'model.data-00000-of-00001', 'checkpoint', 'model.meta']"
      ]
     },
     "execution_count": 40,
     "metadata": {},
     "output_type": "execute_result"
    }
   ],
   "source": [
    "import os\n",
    "os.listdir('trained/')"
   ]
  },
  {
   "cell_type": "markdown",
   "metadata": {},
   "source": [
    "### Restore the model in different graph; running some ops"
   ]
  },
  {
   "cell_type": "code",
   "execution_count": 43,
   "metadata": {},
   "outputs": [
    {
     "name": "stdout",
     "output_type": "stream",
     "text": [
      "INFO:tensorflow:Restoring parameters from trained/model\n",
      "0.7906\n",
      "(784, 10)\n"
     ]
    }
   ],
   "source": [
    "grapphy_2 = tf.Graph()\n",
    "with grapphy_2.as_default():\n",
    "    new_sess = tf.Session()\n",
    "    new_saver = tf.train.import_meta_graph('trained/model.meta')\n",
    "    new_saver.restore(new_sess, tf.train.latest_checkpoint('trained/'))\n",
    "\n",
    "    # ph for feature-vector\n",
    "    x = grapphy_2.get_tensor_by_name('pics:0')\n",
    "    # placeholder for correct labels\n",
    "    y_ = grapphy_2.get_tensor_by_name('labels:0')\n",
    "    wghts = grapphy_2.get_tensor_by_name('fc1/weights:0')\n",
    "    \n",
    "    # acc\n",
    "    accuracy = grapphy_2.get_tensor_by_name('acc:0')\n",
    "    \n",
    "    # run acc\n",
    "    test_xs, test_ys = mnist.test.next_batch(10000)\n",
    "    print(new_sess.run(accuracy, feed_dict={x: test_xs, y_: test_ys}))\n",
    "    print(new_sess.run(wghts).shape)\n"
   ]
  },
  {
   "cell_type": "code",
   "execution_count": null,
   "metadata": {
    "collapsed": true
   },
   "outputs": [],
   "source": []
  },
  {
   "cell_type": "code",
   "execution_count": 45,
   "metadata": {
    "scrolled": true
   },
   "outputs": [
    {
     "data": {
      "text/plain": [
       "[<tf.Operation 'pics' type=Placeholder>,\n",
       " <tf.Operation 'labels' type=Placeholder>,\n",
       " <tf.Operation 'fc1/random_normal/shape' type=Const>,\n",
       " <tf.Operation 'fc1/random_normal/mean' type=Const>,\n",
       " <tf.Operation 'fc1/random_normal/stddev' type=Const>,\n",
       " <tf.Operation 'fc1/random_normal/RandomStandardNormal' type=RandomStandardNormal>,\n",
       " <tf.Operation 'fc1/random_normal/mul' type=Mul>,\n",
       " <tf.Operation 'fc1/random_normal' type=Add>,\n",
       " <tf.Operation 'fc1/weights' type=VariableV2>,\n",
       " <tf.Operation 'fc1/weights/Assign' type=Assign>,\n",
       " <tf.Operation 'fc1/weights/read' type=Identity>,\n",
       " <tf.Operation 'fc1/zeros' type=Const>,\n",
       " <tf.Operation 'fc1/bias' type=VariableV2>,\n",
       " <tf.Operation 'fc1/bias/Assign' type=Assign>,\n",
       " <tf.Operation 'fc1/bias/read' type=Identity>,\n",
       " <tf.Operation 'fc1/MatMul' type=MatMul>,\n",
       " <tf.Operation 'fc1/add' type=Add>,\n",
       " <tf.Operation 'fc2/random_normal/shape' type=Const>,\n",
       " <tf.Operation 'fc2/random_normal/mean' type=Const>,\n",
       " <tf.Operation 'fc2/random_normal/stddev' type=Const>,\n",
       " <tf.Operation 'fc2/random_normal/RandomStandardNormal' type=RandomStandardNormal>,\n",
       " <tf.Operation 'fc2/random_normal/mul' type=Mul>,\n",
       " <tf.Operation 'fc2/random_normal' type=Add>,\n",
       " <tf.Operation 'fc2/weights' type=VariableV2>,\n",
       " <tf.Operation 'fc2/weights/Assign' type=Assign>,\n",
       " <tf.Operation 'fc2/weights/read' type=Identity>,\n",
       " <tf.Operation 'fc2/zeros' type=Const>,\n",
       " <tf.Operation 'fc2/bias' type=VariableV2>,\n",
       " <tf.Operation 'fc2/bias/Assign' type=Assign>,\n",
       " <tf.Operation 'fc2/bias/read' type=Identity>,\n",
       " <tf.Operation 'fc2/MatMul' type=MatMul>,\n",
       " <tf.Operation 'fc2/add' type=Add>,\n",
       " <tf.Operation 'logits' type=Identity>,\n",
       " <tf.Operation 'Rank' type=Const>,\n",
       " <tf.Operation 'Shape' type=Shape>,\n",
       " <tf.Operation 'Rank_1' type=Const>,\n",
       " <tf.Operation 'Shape_1' type=Shape>,\n",
       " <tf.Operation 'Sub/y' type=Const>,\n",
       " <tf.Operation 'Sub' type=Sub>,\n",
       " <tf.Operation 'Slice/begin' type=Pack>,\n",
       " <tf.Operation 'Slice/size' type=Const>,\n",
       " <tf.Operation 'Slice' type=Slice>,\n",
       " <tf.Operation 'concat/values_0' type=Const>,\n",
       " <tf.Operation 'concat/axis' type=Const>,\n",
       " <tf.Operation 'concat' type=ConcatV2>,\n",
       " <tf.Operation 'Reshape' type=Reshape>,\n",
       " <tf.Operation 'Rank_2' type=Const>,\n",
       " <tf.Operation 'Shape_2' type=Shape>,\n",
       " <tf.Operation 'Sub_1/y' type=Const>,\n",
       " <tf.Operation 'Sub_1' type=Sub>,\n",
       " <tf.Operation 'Slice_1/begin' type=Pack>,\n",
       " <tf.Operation 'Slice_1/size' type=Const>,\n",
       " <tf.Operation 'Slice_1' type=Slice>,\n",
       " <tf.Operation 'concat_1/values_0' type=Const>,\n",
       " <tf.Operation 'concat_1/axis' type=Const>,\n",
       " <tf.Operation 'concat_1' type=ConcatV2>,\n",
       " <tf.Operation 'Reshape_1' type=Reshape>,\n",
       " <tf.Operation 'loss' type=SoftmaxCrossEntropyWithLogits>,\n",
       " <tf.Operation 'Sub_2/y' type=Const>,\n",
       " <tf.Operation 'Sub_2' type=Sub>,\n",
       " <tf.Operation 'Slice_2/begin' type=Const>,\n",
       " <tf.Operation 'Slice_2/size' type=Pack>,\n",
       " <tf.Operation 'Slice_2' type=Slice>,\n",
       " <tf.Operation 'Reshape_2' type=Reshape>,\n",
       " <tf.Operation 'gradients/Shape' type=Shape>,\n",
       " <tf.Operation 'gradients/Const' type=Const>,\n",
       " <tf.Operation 'gradients/Fill' type=Fill>,\n",
       " <tf.Operation 'gradients/Reshape_2_grad/Shape' type=Shape>,\n",
       " <tf.Operation 'gradients/Reshape_2_grad/Reshape' type=Reshape>,\n",
       " <tf.Operation 'gradients/zeros_like' type=ZerosLike>,\n",
       " <tf.Operation 'gradients/loss_grad/ExpandDims/dim' type=Const>,\n",
       " <tf.Operation 'gradients/loss_grad/ExpandDims' type=ExpandDims>,\n",
       " <tf.Operation 'gradients/loss_grad/mul' type=Mul>,\n",
       " <tf.Operation 'gradients/Reshape_grad/Shape' type=Shape>,\n",
       " <tf.Operation 'gradients/Reshape_grad/Reshape' type=Reshape>,\n",
       " <tf.Operation 'gradients/fc2/add_grad/Shape' type=Shape>,\n",
       " <tf.Operation 'gradients/fc2/add_grad/Shape_1' type=Const>,\n",
       " <tf.Operation 'gradients/fc2/add_grad/BroadcastGradientArgs' type=BroadcastGradientArgs>,\n",
       " <tf.Operation 'gradients/fc2/add_grad/Sum' type=Sum>,\n",
       " <tf.Operation 'gradients/fc2/add_grad/Reshape' type=Reshape>,\n",
       " <tf.Operation 'gradients/fc2/add_grad/Sum_1' type=Sum>,\n",
       " <tf.Operation 'gradients/fc2/add_grad/Reshape_1' type=Reshape>,\n",
       " <tf.Operation 'gradients/fc2/add_grad/tuple/group_deps' type=NoOp>,\n",
       " <tf.Operation 'gradients/fc2/add_grad/tuple/control_dependency' type=Identity>,\n",
       " <tf.Operation 'gradients/fc2/add_grad/tuple/control_dependency_1' type=Identity>,\n",
       " <tf.Operation 'gradients/fc2/MatMul_grad/MatMul' type=MatMul>,\n",
       " <tf.Operation 'gradients/fc2/MatMul_grad/MatMul_1' type=MatMul>,\n",
       " <tf.Operation 'gradients/fc2/MatMul_grad/tuple/group_deps' type=NoOp>,\n",
       " <tf.Operation 'gradients/fc2/MatMul_grad/tuple/control_dependency' type=Identity>,\n",
       " <tf.Operation 'gradients/fc2/MatMul_grad/tuple/control_dependency_1' type=Identity>,\n",
       " <tf.Operation 'beta1_power/initial_value' type=Const>,\n",
       " <tf.Operation 'beta1_power' type=VariableV2>,\n",
       " <tf.Operation 'beta1_power/Assign' type=Assign>,\n",
       " <tf.Operation 'beta1_power/read' type=Identity>,\n",
       " <tf.Operation 'beta2_power/initial_value' type=Const>,\n",
       " <tf.Operation 'beta2_power' type=VariableV2>,\n",
       " <tf.Operation 'beta2_power/Assign' type=Assign>,\n",
       " <tf.Operation 'beta2_power/read' type=Identity>,\n",
       " <tf.Operation 'fc2/weights/Adam/Initializer/zeros' type=Const>,\n",
       " <tf.Operation 'fc2/weights/Adam' type=VariableV2>,\n",
       " <tf.Operation 'fc2/weights/Adam/Assign' type=Assign>,\n",
       " <tf.Operation 'fc2/weights/Adam/read' type=Identity>,\n",
       " <tf.Operation 'fc2/weights/Adam_1/Initializer/zeros' type=Const>,\n",
       " <tf.Operation 'fc2/weights/Adam_1' type=VariableV2>,\n",
       " <tf.Operation 'fc2/weights/Adam_1/Assign' type=Assign>,\n",
       " <tf.Operation 'fc2/weights/Adam_1/read' type=Identity>,\n",
       " <tf.Operation 'fc2/bias/Adam/Initializer/zeros' type=Const>,\n",
       " <tf.Operation 'fc2/bias/Adam' type=VariableV2>,\n",
       " <tf.Operation 'fc2/bias/Adam/Assign' type=Assign>,\n",
       " <tf.Operation 'fc2/bias/Adam/read' type=Identity>,\n",
       " <tf.Operation 'fc2/bias/Adam_1/Initializer/zeros' type=Const>,\n",
       " <tf.Operation 'fc2/bias/Adam_1' type=VariableV2>,\n",
       " <tf.Operation 'fc2/bias/Adam_1/Assign' type=Assign>,\n",
       " <tf.Operation 'fc2/bias/Adam_1/read' type=Identity>,\n",
       " <tf.Operation 'Adam/learning_rate' type=Const>,\n",
       " <tf.Operation 'Adam/beta1' type=Const>,\n",
       " <tf.Operation 'Adam/beta2' type=Const>,\n",
       " <tf.Operation 'Adam/epsilon' type=Const>,\n",
       " <tf.Operation 'Adam/update_fc2/weights/ApplyAdam' type=ApplyAdam>,\n",
       " <tf.Operation 'Adam/update_fc2/bias/ApplyAdam' type=ApplyAdam>,\n",
       " <tf.Operation 'Adam/mul' type=Mul>,\n",
       " <tf.Operation 'Adam/Assign' type=Assign>,\n",
       " <tf.Operation 'Adam/mul_1' type=Mul>,\n",
       " <tf.Operation 'Adam/Assign_1' type=Assign>,\n",
       " <tf.Operation 'Adam' type=NoOp>,\n",
       " <tf.Operation 'ArgMax/dimension' type=Const>,\n",
       " <tf.Operation 'ArgMax' type=ArgMax>,\n",
       " <tf.Operation 'labels_hat' type=Cast>,\n",
       " <tf.Operation 'ArgMax_1/dimension' type=Const>,\n",
       " <tf.Operation 'ArgMax_1' type=ArgMax>,\n",
       " <tf.Operation 'labels_1' type=Cast>,\n",
       " <tf.Operation 'Equal' type=Equal>,\n",
       " <tf.Operation 'Cast_1' type=Cast>,\n",
       " <tf.Operation 'Const' type=Const>,\n",
       " <tf.Operation 'acc' type=Mean>]"
      ]
     },
     "execution_count": 45,
     "metadata": {},
     "output_type": "execute_result"
    }
   ],
   "source": [
    "# not a mess anymore!\n",
    "grapphy.get_operations()"
   ]
  },
  {
   "cell_type": "code",
   "execution_count": null,
   "metadata": {
    "collapsed": true
   },
   "outputs": [],
   "source": []
  },
  {
   "cell_type": "code",
   "execution_count": null,
   "metadata": {
    "collapsed": true
   },
   "outputs": [],
   "source": []
  }
 ],
 "metadata": {
  "kernelspec": {
   "display_name": "Python 3",
   "language": "python",
   "name": "python3"
  },
  "language_info": {
   "codemirror_mode": {
    "name": "ipython",
    "version": 3
   },
   "file_extension": ".py",
   "mimetype": "text/x-python",
   "name": "python",
   "nbconvert_exporter": "python",
   "pygments_lexer": "ipython3",
   "version": "3.5.2"
  }
 },
 "nbformat": 4,
 "nbformat_minor": 2
}
